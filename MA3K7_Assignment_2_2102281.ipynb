{
 "cells": [
  {
   "cell_type": "code",
   "execution_count": null,
   "id": "e077b7a4",
   "metadata": {},
   "outputs": [],
   "source": [
    "#determinant checker\n",
    "import numpy as np\n",
    "\n",
    "#define the dimensions of the matrix\n",
    "N = int(input(\"Enter the number of rows/columns for this square matrix: \"))\n",
    "# initialise matrix A\n",
    "A = []\n",
    "print(\"Enter matrix entries row-wise (element by element):\")\n",
    "\n",
    "for i in range(N):      #i denotes rows, j denotes columns    \n",
    "    a =[]\n",
    "    for j in range(N):      \n",
    "         a.append(int(input()))\n",
    "    A.append(a)\n",
    "\n",
    "#display the matrix, determinant and win/lose outcome\n",
    "for i in range(N):\n",
    "    for j in range(N):\n",
    "        print(A[i][j], end = \" \")\n",
    "    print()\n",
    "det=np.linalg.det(A)\n",
    "print(\"Determinant =\", det)\n",
    "if det == 0:\n",
    "    print(\"You win!\")\n",
    "else:\n",
    "    print(\"You lose!\")"
   ]
  },
  {
   "cell_type": "code",
   "execution_count": null,
   "id": "686ba5f3",
   "metadata": {},
   "outputs": [],
   "source": []
  }
 ],
 "metadata": {
  "kernelspec": {
   "display_name": "Python 3 (ipykernel)",
   "language": "python",
   "name": "python3"
  },
  "language_info": {
   "codemirror_mode": {
    "name": "ipython",
    "version": 3
   },
   "file_extension": ".py",
   "mimetype": "text/x-python",
   "name": "python",
   "nbconvert_exporter": "python",
   "pygments_lexer": "ipython3",
   "version": "3.9.13"
  }
 },
 "nbformat": 4,
 "nbformat_minor": 5
}
