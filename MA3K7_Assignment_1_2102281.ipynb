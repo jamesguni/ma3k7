{
 "cells": [
  {
   "cell_type": "code",
   "execution_count": null,
   "id": "f4564205",
   "metadata": {},
   "outputs": [],
   "source": [
    "import numpy as np\n",
    "import matplotlib as plt"
   ]
  },
  {
   "cell_type": "code",
   "execution_count": null,
   "id": "53c4ac40",
   "metadata": {},
   "outputs": [],
   "source": [
    "def f(a, b): #defining the bracelet function, setting the maximum size to 100 which is the maximal theoretical size of any bracelet modulo 10\n",
    "    g = np.zeros(100)\n",
    "    g[0] = int(a)\n",
    "    g[1] = int(b)\n",
    "    i=2\n",
    "    while i<100:\n",
    "        g[i] = (g[i-1]+g[i-2])%10\n",
    "        i+=1\n",
    "    return g\n",
    "\n",
    "def onecycle(v): #truncates the bracelet to exactly one cycle\n",
    "    i=1\n",
    "    w=np.zeros(100)\n",
    "    w[0] = v[0]\n",
    "    w[1] = v[1]\n",
    "    while i>=1 and (v[i] != v[0] and v[i+1] != v[1]) or (v[i] == v[0] and v[i+1] != v[1]) or (v[i] != v[0] and v[i+1] == v[1]):\n",
    "        w[i] = v[i]\n",
    "        i+=1\n",
    "    n=i\n",
    "    x=list(w)\n",
    "    del x[n:100]\n",
    "    w1 = np.array(x)\n",
    "    return w1\n"
   ]
  },
  {
   "cell_type": "code",
   "execution_count": null,
   "id": "db8ffa51",
   "metadata": {
    "scrolled": true
   },
   "outputs": [],
   "source": [
    "#<1,5>\n",
    "print(f(1, 5))\n",
    "print(onecycle(f(1,5)))\n",
    "print(len(onecycle(f(1,5))))"
   ]
  },
  {
   "cell_type": "code",
   "execution_count": null,
   "id": "dc40aba3",
   "metadata": {},
   "outputs": [],
   "source": [
    "#<8, 9>\n",
    "print(f(8, 9))\n",
    "print(onecycle(f(8, 9)))\n",
    "print(len(onecycle(f(8,9))))"
   ]
  },
  {
   "cell_type": "code",
   "execution_count": null,
   "id": "16d3b67b",
   "metadata": {},
   "outputs": [],
   "source": [
    "#<0,5>\n",
    "print(f(0, 5))\n",
    "print(onecycle(f(0, 5)))\n",
    "print(len(onecycle(f(0,5))))"
   ]
  },
  {
   "cell_type": "code",
   "execution_count": null,
   "id": "2186767d",
   "metadata": {},
   "outputs": [],
   "source": [
    "#<0, 4>\n",
    "print(f(0, 4))\n",
    "print(onecycle(f(0, 4)))\n",
    "print(len(onecycle(f(0,4))))"
   ]
  },
  {
   "cell_type": "code",
   "execution_count": null,
   "id": "8951f964",
   "metadata": {},
   "outputs": [],
   "source": [
    "#<0,0>\n",
    "print(f(0, 0))\n",
    "print(onecycle(f(0, 0)))\n",
    "print(len(onecycle(f(0,0))))"
   ]
  },
  {
   "cell_type": "code",
   "execution_count": null,
   "id": "1340e333",
   "metadata": {},
   "outputs": [],
   "source": [
    "#<4, 2>\n",
    "print(f(4, 2))\n",
    "print(onecycle(f(4, 2)))\n",
    "print(len(onecycle(f(4,2))))"
   ]
  },
  {
   "cell_type": "code",
   "execution_count": null,
   "id": "76aef683",
   "metadata": {},
   "outputs": [],
   "source": [
    "a=len(onecycle(f(1, 5)))\n",
    "b=len(onecycle(f(8, 9)))\n",
    "c=len(onecycle(f(0, 5)))\n",
    "d=len(onecycle(f(0, 4)))\n",
    "e=len(onecycle(f(0, 0)))\n",
    "g=len(onecycle(f(4, 2)))\n",
    "h=a+b+c+d+e+g \n",
    "print(h) #outputs the sum of the sizes of the cycles"
   ]
  }
 ],
 "metadata": {
  "kernelspec": {
   "display_name": "Python 3 (ipykernel)",
   "language": "python",
   "name": "python3"
  },
  "language_info": {
   "codemirror_mode": {
    "name": "ipython",
    "version": 3
   },
   "file_extension": ".py",
   "mimetype": "text/x-python",
   "name": "python",
   "nbconvert_exporter": "python",
   "pygments_lexer": "ipython3",
   "version": "3.9.13"
  }
 },
 "nbformat": 4,
 "nbformat_minor": 5
}
