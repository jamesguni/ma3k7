{
 "cells": [
  {
   "cell_type": "code",
   "execution_count": 1,
   "id": "f4564205",
   "metadata": {},
   "outputs": [],
   "source": [
    "import numpy as np\n",
    "import matplotlib as plt"
   ]
  },
  {
   "cell_type": "code",
   "execution_count": 2,
   "id": "53c4ac40",
   "metadata": {},
   "outputs": [],
   "source": [
    "def f(a, b): #defining the bracelet function, setting the maximum size to 100 which is the maximal theoretical size of any bracelet modulo 10\n",
    "    g = np.zeros(100)\n",
    "    g[0] = int(a)\n",
    "    g[1] = int(b)\n",
    "    i=2\n",
    "    while i<100:\n",
    "        g[i] = (g[i-1]+g[i-2])%10\n",
    "        i+=1\n",
    "    return g\n",
    "\n",
    "def onecycle(v): #truncates the bracelet to exactly one cycle\n",
    "    i=1\n",
    "    w=np.zeros(100)\n",
    "    w[0] = v[0]\n",
    "    w[1] = v[1]\n",
    "    while i>=1 and (v[i] != v[0] and v[i+1] != v[1]) or (v[i] == v[0] and v[i+1] != v[1]) or (v[i] != v[0] and v[i+1] == v[1]):\n",
    "        w[i] = v[i]\n",
    "        i+=1\n",
    "    n=i\n",
    "    x=list(w)\n",
    "    del x[n:100]\n",
    "    w1 = np.array(x)\n",
    "    return w1\n"
   ]
  },
  {
   "cell_type": "code",
   "execution_count": 3,
   "id": "db8ffa51",
   "metadata": {
    "scrolled": true
   },
   "outputs": [
    {
     "name": "stdout",
     "output_type": "stream",
     "text": [
      "[1. 5. 6. 1. 7. 8. 5. 3. 8. 1. 9. 0. 9. 9. 8. 7. 5. 2. 7. 9. 6. 5. 1. 6.\n",
      " 7. 3. 0. 3. 3. 6. 9. 5. 4. 9. 3. 2. 5. 7. 2. 9. 1. 0. 1. 1. 2. 3. 5. 8.\n",
      " 3. 1. 4. 5. 9. 4. 3. 7. 0. 7. 7. 4. 1. 5. 6. 1. 7. 8. 5. 3. 8. 1. 9. 0.\n",
      " 9. 9. 8. 7. 5. 2. 7. 9. 6. 5. 1. 6. 7. 3. 0. 3. 3. 6. 9. 5. 4. 9. 3. 2.\n",
      " 5. 7. 2. 9.]\n",
      "[1. 5. 6. 1. 7. 8. 5. 3. 8. 1. 9. 0. 9. 9. 8. 7. 5. 2. 7. 9. 6. 5. 1. 6.\n",
      " 7. 3. 0. 3. 3. 6. 9. 5. 4. 9. 3. 2. 5. 7. 2. 9. 1. 0. 1. 1. 2. 3. 5. 8.\n",
      " 3. 1. 4. 5. 9. 4. 3. 7. 0. 7. 7. 4.]\n",
      "60\n"
     ]
    }
   ],
   "source": [
    "#<1,5>\n",
    "print(f(1, 5))\n",
    "print(onecycle(f(1,5)))\n",
    "print(len(onecycle(f(1,5))))"
   ]
  },
  {
   "cell_type": "code",
   "execution_count": 4,
   "id": "dc40aba3",
   "metadata": {},
   "outputs": [
    {
     "name": "stdout",
     "output_type": "stream",
     "text": [
      "[8. 9. 7. 6. 3. 9. 2. 1. 3. 4. 7. 1. 8. 9. 7. 6. 3. 9. 2. 1. 3. 4. 7. 1.\n",
      " 8. 9. 7. 6. 3. 9. 2. 1. 3. 4. 7. 1. 8. 9. 7. 6. 3. 9. 2. 1. 3. 4. 7. 1.\n",
      " 8. 9. 7. 6. 3. 9. 2. 1. 3. 4. 7. 1. 8. 9. 7. 6. 3. 9. 2. 1. 3. 4. 7. 1.\n",
      " 8. 9. 7. 6. 3. 9. 2. 1. 3. 4. 7. 1. 8. 9. 7. 6. 3. 9. 2. 1. 3. 4. 7. 1.\n",
      " 8. 9. 7. 6.]\n",
      "[8. 9. 7. 6. 3. 9. 2. 1. 3. 4. 7. 1.]\n",
      "12\n"
     ]
    }
   ],
   "source": [
    "#<8, 9>\n",
    "print(f(8, 9))\n",
    "print(onecycle(f(8, 9)))\n",
    "print(len(onecycle(f(8,9))))"
   ]
  },
  {
   "cell_type": "code",
   "execution_count": 5,
   "id": "16d3b67b",
   "metadata": {},
   "outputs": [
    {
     "name": "stdout",
     "output_type": "stream",
     "text": [
      "[0. 5. 5. 0. 5. 5. 0. 5. 5. 0. 5. 5. 0. 5. 5. 0. 5. 5. 0. 5. 5. 0. 5. 5.\n",
      " 0. 5. 5. 0. 5. 5. 0. 5. 5. 0. 5. 5. 0. 5. 5. 0. 5. 5. 0. 5. 5. 0. 5. 5.\n",
      " 0. 5. 5. 0. 5. 5. 0. 5. 5. 0. 5. 5. 0. 5. 5. 0. 5. 5. 0. 5. 5. 0. 5. 5.\n",
      " 0. 5. 5. 0. 5. 5. 0. 5. 5. 0. 5. 5. 0. 5. 5. 0. 5. 5. 0. 5. 5. 0. 5. 5.\n",
      " 0. 5. 5. 0.]\n",
      "[0. 5. 5.]\n",
      "3\n"
     ]
    }
   ],
   "source": [
    "#<0,5>\n",
    "print(f(0, 5))\n",
    "print(onecycle(f(0, 5)))\n",
    "print(len(onecycle(f(0,5))))"
   ]
  },
  {
   "cell_type": "code",
   "execution_count": 6,
   "id": "2186767d",
   "metadata": {},
   "outputs": [
    {
     "name": "stdout",
     "output_type": "stream",
     "text": [
      "[0. 4. 4. 8. 2. 0. 2. 2. 4. 6. 0. 6. 6. 2. 8. 0. 8. 8. 6. 4. 0. 4. 4. 8.\n",
      " 2. 0. 2. 2. 4. 6. 0. 6. 6. 2. 8. 0. 8. 8. 6. 4. 0. 4. 4. 8. 2. 0. 2. 2.\n",
      " 4. 6. 0. 6. 6. 2. 8. 0. 8. 8. 6. 4. 0. 4. 4. 8. 2. 0. 2. 2. 4. 6. 0. 6.\n",
      " 6. 2. 8. 0. 8. 8. 6. 4. 0. 4. 4. 8. 2. 0. 2. 2. 4. 6. 0. 6. 6. 2. 8. 0.\n",
      " 8. 8. 6. 4.]\n",
      "[0. 4. 4. 8. 2. 0. 2. 2. 4. 6. 0. 6. 6. 2. 8. 0. 8. 8. 6. 4.]\n",
      "20\n"
     ]
    }
   ],
   "source": [
    "#<0, 4>\n",
    "print(f(0, 4))\n",
    "print(onecycle(f(0, 4)))\n",
    "print(len(onecycle(f(0,4))))"
   ]
  },
  {
   "cell_type": "code",
   "execution_count": 7,
   "id": "8951f964",
   "metadata": {},
   "outputs": [
    {
     "name": "stdout",
     "output_type": "stream",
     "text": [
      "[0. 0. 0. 0. 0. 0. 0. 0. 0. 0. 0. 0. 0. 0. 0. 0. 0. 0. 0. 0. 0. 0. 0. 0.\n",
      " 0. 0. 0. 0. 0. 0. 0. 0. 0. 0. 0. 0. 0. 0. 0. 0. 0. 0. 0. 0. 0. 0. 0. 0.\n",
      " 0. 0. 0. 0. 0. 0. 0. 0. 0. 0. 0. 0. 0. 0. 0. 0. 0. 0. 0. 0. 0. 0. 0. 0.\n",
      " 0. 0. 0. 0. 0. 0. 0. 0. 0. 0. 0. 0. 0. 0. 0. 0. 0. 0. 0. 0. 0. 0. 0. 0.\n",
      " 0. 0. 0. 0.]\n",
      "[0.]\n",
      "1\n"
     ]
    }
   ],
   "source": [
    "#<0,0>\n",
    "print(f(0, 0))\n",
    "print(onecycle(f(0, 0)))\n",
    "print(len(onecycle(f(0,0))))"
   ]
  },
  {
   "cell_type": "code",
   "execution_count": 8,
   "id": "1340e333",
   "metadata": {},
   "outputs": [
    {
     "name": "stdout",
     "output_type": "stream",
     "text": [
      "[4. 2. 6. 8. 4. 2. 6. 8. 4. 2. 6. 8. 4. 2. 6. 8. 4. 2. 6. 8. 4. 2. 6. 8.\n",
      " 4. 2. 6. 8. 4. 2. 6. 8. 4. 2. 6. 8. 4. 2. 6. 8. 4. 2. 6. 8. 4. 2. 6. 8.\n",
      " 4. 2. 6. 8. 4. 2. 6. 8. 4. 2. 6. 8. 4. 2. 6. 8. 4. 2. 6. 8. 4. 2. 6. 8.\n",
      " 4. 2. 6. 8. 4. 2. 6. 8. 4. 2. 6. 8. 4. 2. 6. 8. 4. 2. 6. 8. 4. 2. 6. 8.\n",
      " 4. 2. 6. 8.]\n",
      "[4. 2. 6. 8.]\n",
      "4\n"
     ]
    }
   ],
   "source": [
    "#<4, 2>\n",
    "print(f(4, 2))\n",
    "print(onecycle(f(4, 2)))\n",
    "print(len(onecycle(f(4,2))))"
   ]
  },
  {
   "cell_type": "code",
   "execution_count": 9,
   "id": "76aef683",
   "metadata": {},
   "outputs": [
    {
     "name": "stdout",
     "output_type": "stream",
     "text": [
      "100\n"
     ]
    }
   ],
   "source": [
    "a=len(onecycle(f(1, 5)))\n",
    "b=len(onecycle(f(8, 9)))\n",
    "c=len(onecycle(f(0, 5)))\n",
    "d=len(onecycle(f(0, 4)))\n",
    "e=len(onecycle(f(0, 0)))\n",
    "g=len(onecycle(f(4, 2)))\n",
    "h=a+b+c+d+e+g\n",
    "print(h)"
   ]
  },
  {
   "cell_type": "code",
   "execution_count": null,
   "id": "17b729bf",
   "metadata": {},
   "outputs": [],
   "source": []
  }
 ],
 "metadata": {
  "kernelspec": {
   "display_name": "Python 3 (ipykernel)",
   "language": "python",
   "name": "python3"
  },
  "language_info": {
   "codemirror_mode": {
    "name": "ipython",
    "version": 3
   },
   "file_extension": ".py",
   "mimetype": "text/x-python",
   "name": "python",
   "nbconvert_exporter": "python",
   "pygments_lexer": "ipython3",
   "version": "3.9.13"
  }
 },
 "nbformat": 4,
 "nbformat_minor": 5
}
